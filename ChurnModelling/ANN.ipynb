{
  "nbformat": 4,
  "nbformat_minor": 0,
  "metadata": {
    "colab": {
      "name": "ANN.ipynb",
      "provenance": [],
      "collapsed_sections": [],
      "mount_file_id": "1lU6oh5zZWDAg9Sbx69rjFbBqyh8mF4o6",
      "authorship_tag": "ABX9TyPc5f6mgJbE2FDyqbyWgbRT",
      "include_colab_link": true
    },
    "kernelspec": {
      "name": "python3",
      "display_name": "Python 3"
    },
    "accelerator": "GPU"
  },
  "cells": [
    {
      "cell_type": "markdown",
      "metadata": {
        "id": "view-in-github",
        "colab_type": "text"
      },
      "source": [
        "<a href=\"https://colab.research.google.com/github/VK00493839/Data_Science/blob/master/ANN.ipynb\" target=\"_parent\"><img src=\"https://colab.research.google.com/assets/colab-badge.svg\" alt=\"Open In Colab\"/></a>"
      ]
    },
    {
      "cell_type": "code",
      "metadata": {
        "id": "09nGsAB3gYei",
        "colab_type": "code",
        "outputId": "5bbe9b0d-83b9-42a8-d578-67ce4e9e4985",
        "colab": {
          "base_uri": "https://localhost:8080/",
          "height": 34
        }
      },
      "source": [
        "import tensorflow as tf\n",
        "tf.test.gpu_device_name()"
      ],
      "execution_count": 1,
      "outputs": [
        {
          "output_type": "execute_result",
          "data": {
            "text/plain": [
              "'/device:GPU:0'"
            ]
          },
          "metadata": {
            "tags": []
          },
          "execution_count": 1
        }
      ]
    },
    {
      "cell_type": "markdown",
      "metadata": {
        "id": "yN_R1FS_iMln",
        "colab_type": "text"
      },
      "source": [
        "#Device Information"
      ]
    },
    {
      "cell_type": "code",
      "metadata": {
        "id": "W_jdW8FphxOw",
        "colab_type": "code",
        "outputId": "43dcc9d4-42c3-411d-d4a6-a5f45a627fda",
        "colab": {
          "base_uri": "https://localhost:8080/",
          "height": 470
        }
      },
      "source": [
        "from tensorflow.python.client import device_lib\n",
        "device_lib.list_local_devices()"
      ],
      "execution_count": 0,
      "outputs": [
        {
          "output_type": "execute_result",
          "data": {
            "text/plain": [
              "[name: \"/device:CPU:0\"\n",
              " device_type: \"CPU\"\n",
              " memory_limit: 268435456\n",
              " locality {\n",
              " }\n",
              " incarnation: 12700092808697914780, name: \"/device:XLA_CPU:0\"\n",
              " device_type: \"XLA_CPU\"\n",
              " memory_limit: 17179869184\n",
              " locality {\n",
              " }\n",
              " incarnation: 9063786454527615864\n",
              " physical_device_desc: \"device: XLA_CPU device\", name: \"/device:XLA_GPU:0\"\n",
              " device_type: \"XLA_GPU\"\n",
              " memory_limit: 17179869184\n",
              " locality {\n",
              " }\n",
              " incarnation: 15546341018823791124\n",
              " physical_device_desc: \"device: XLA_GPU device\", name: \"/device:GPU:0\"\n",
              " device_type: \"GPU\"\n",
              " memory_limit: 11150726272\n",
              " locality {\n",
              "   bus_id: 1\n",
              "   links {\n",
              "   }\n",
              " }\n",
              " incarnation: 14483711155058084540\n",
              " physical_device_desc: \"device: 0, name: Tesla K80, pci bus id: 0000:00:04.0, compute capability: 3.7\"]"
            ]
          },
          "metadata": {
            "tags": []
          },
          "execution_count": 2
        }
      ]
    },
    {
      "cell_type": "markdown",
      "metadata": {
        "id": "7iw2ODPziQ4d",
        "colab_type": "text"
      },
      "source": [
        "# RAM Information"
      ]
    },
    {
      "cell_type": "code",
      "metadata": {
        "id": "yRpYrdzuiBfM",
        "colab_type": "code",
        "colab": {}
      },
      "source": [
        "!cat /proc/meminfo"
      ],
      "execution_count": 0,
      "outputs": []
    },
    {
      "cell_type": "markdown",
      "metadata": {
        "id": "cAn-s4Gsiccs",
        "colab_type": "text"
      },
      "source": [
        "#CPU Information"
      ]
    },
    {
      "cell_type": "code",
      "metadata": {
        "id": "83WYvoZAiV7b",
        "colab_type": "code",
        "colab": {}
      },
      "source": [
        "!cat /proc/cpuinfo"
      ],
      "execution_count": 0,
      "outputs": []
    },
    {
      "cell_type": "markdown",
      "metadata": {
        "id": "ZmOGx7sLij-k",
        "colab_type": "text"
      },
      "source": [
        "# working with ANN"
      ]
    },
    {
      "cell_type": "code",
      "metadata": {
        "id": "zGjzNLS4igRj",
        "colab_type": "code",
        "colab": {}
      },
      "source": [
        "!pip install -q keras"
      ],
      "execution_count": 0,
      "outputs": []
    },
    {
      "cell_type": "code",
      "metadata": {
        "id": "pyW1NkDwi07n",
        "colab_type": "code",
        "colab": {
          "base_uri": "https://localhost:8080/",
          "height": 1000
        },
        "outputId": "b0477f06-52ac-4b4b-9f25-adcfe84f6c27"
      },
      "source": [
        "# importing libraries\n",
        "import numpy as np\n",
        "import pandas as pd\n",
        "import matplotlib.pyplot as plt\n",
        "import seaborn as sns\n",
        "\n",
        "# imprtring datasets\n",
        "dataset = pd.read_csv('/content/drive/My Drive/DeepLearning/ChurnModelling/Churn_Modelling.csv')\n",
        "X = dataset.iloc[:, 3:13]\n",
        "y = dataset.iloc[:, 13]\n",
        "\n",
        "# create dummy variables for Gender and Geography4\n",
        "geography = pd.get_dummies(X['Geography'], drop_first=True)\n",
        "gender = pd.get_dummies(X['Gender'], drop_first=True)\n",
        "\n",
        "# concatenting these two columns to our dataset and deleting the Geography, Gender columns from original dataset\n",
        "X = pd.concat([X, geography, gender], axis=1) #column wise\n",
        "X.drop(['Geography', 'Gender'], axis=1, inplace=True)\n",
        "\n",
        "# splitting the dataset into training and test sets\n",
        "from sklearn.model_selection import train_test_split\n",
        "X_train, X_test, y_train, y_test = train_test_split(X, y, test_size=0.2, random_state=0)\n",
        "\n",
        "# Feature Scaling\n",
        "from sklearn.preprocessing import StandardScaler\n",
        "sc = StandardScaler()\n",
        "X_train = sc.fit_transform(X_train)\n",
        "X_test = sc.fit_transform(X_test)\n",
        "\n",
        "\n",
        "# Now let's create ANN Model\n",
        "import keras\n",
        "from keras.models import Sequential\n",
        "from keras.layers import Dense\n",
        "# from keras.layers import PReLU, ReLU, ELU, LeakyReLU\n",
        "from keras.layers import Dropout\n",
        "\n",
        "\n",
        "# initializing Ann model\n",
        "classifier = Sequential()\n",
        "\n",
        "# Adding the Input layer and First hidden layer\n",
        "classifier.add(Dense(units=6, kernel_initializer='he_uniform', activation='relu', input_dim=11))\n",
        "\n",
        "# Adding the Second hidden layer\n",
        "classifier.add(Dense(units=6, kernel_initializer='he_uniform', activation='relu'))\n",
        "\n",
        "# Adding the output layer\n",
        "classifier.add(Dense(units=1, kernel_initializer='glorot_uniform', activation='sigmoid'))\n",
        "\n",
        "# compiling the ANN\n",
        "classifier.compile(optimizer='adam', loss='binary_crossentropy', metrics=['accuracy'])\n",
        "\n",
        "# Fitting the ANN to the training set\n",
        "model_history = classifier.fit(X_train, y_train, validation_split=0.33, batch_size=10, nb_epoch=100)\n",
        "\n",
        "# list of all data in history\n",
        "print(model_history.history.keys())\n",
        "\n",
        "# Predicting the test set results\n",
        "y_pred = classifier.predict(X_test)\n",
        "y_pred = (y_pred>0.5)\n",
        "\n",
        "# confusion matrix\n",
        "from sklearn.metrics import confusion_matrix\n",
        "print(confusion_matrix(y_test, y_pred))\n",
        "\n",
        "# Claculating the Accuracy\n",
        "from sklearn.metrics import accuracy_score\n",
        "print(accuracy_score(y_pred, y_test))"
      ],
      "execution_count": 2,
      "outputs": [
        {
          "output_type": "stream",
          "text": [
            "/usr/local/lib/python3.6/dist-packages/statsmodels/tools/_testing.py:19: FutureWarning: pandas.util.testing is deprecated. Use the functions in the public API at pandas.testing instead.\n",
            "  import pandas.util.testing as tm\n",
            "Using TensorFlow backend.\n",
            "/usr/local/lib/python3.6/dist-packages/ipykernel_launcher.py:55: UserWarning: The `nb_epoch` argument in `fit` has been renamed `epochs`.\n"
          ],
          "name": "stderr"
        },
        {
          "output_type": "stream",
          "text": [
            "Train on 5359 samples, validate on 2641 samples\n",
            "Epoch 1/100\n",
            "5359/5359 [==============================] - 3s 644us/step - loss: 0.6114 - accuracy: 0.6960 - val_loss: 0.4788 - val_accuracy: 0.7967\n",
            "Epoch 2/100\n",
            "5359/5359 [==============================] - 2s 320us/step - loss: 0.4624 - accuracy: 0.8005 - val_loss: 0.4397 - val_accuracy: 0.8046\n",
            "Epoch 3/100\n",
            "5359/5359 [==============================] - 2s 320us/step - loss: 0.4241 - accuracy: 0.8186 - val_loss: 0.4151 - val_accuracy: 0.8156\n",
            "Epoch 4/100\n",
            "5359/5359 [==============================] - 2s 323us/step - loss: 0.3999 - accuracy: 0.8319 - val_loss: 0.3977 - val_accuracy: 0.8273\n",
            "Epoch 5/100\n",
            "5359/5359 [==============================] - 2s 320us/step - loss: 0.3836 - accuracy: 0.8429 - val_loss: 0.3880 - val_accuracy: 0.8360\n",
            "Epoch 6/100\n",
            "5359/5359 [==============================] - 2s 322us/step - loss: 0.3724 - accuracy: 0.8479 - val_loss: 0.3773 - val_accuracy: 0.8432\n",
            "Epoch 7/100\n",
            "5359/5359 [==============================] - 2s 316us/step - loss: 0.3628 - accuracy: 0.8535 - val_loss: 0.3725 - val_accuracy: 0.8466\n",
            "Epoch 8/100\n",
            "5359/5359 [==============================] - 2s 314us/step - loss: 0.3564 - accuracy: 0.8556 - val_loss: 0.3688 - val_accuracy: 0.8451\n",
            "Epoch 9/100\n",
            "5359/5359 [==============================] - 2s 321us/step - loss: 0.3512 - accuracy: 0.8567 - val_loss: 0.3643 - val_accuracy: 0.8512\n",
            "Epoch 10/100\n",
            "5359/5359 [==============================] - 2s 321us/step - loss: 0.3479 - accuracy: 0.8589 - val_loss: 0.3622 - val_accuracy: 0.8489\n",
            "Epoch 11/100\n",
            "5359/5359 [==============================] - 2s 327us/step - loss: 0.3460 - accuracy: 0.8578 - val_loss: 0.3614 - val_accuracy: 0.8485\n",
            "Epoch 12/100\n",
            "5359/5359 [==============================] - 2s 318us/step - loss: 0.3437 - accuracy: 0.8587 - val_loss: 0.3605 - val_accuracy: 0.8493\n",
            "Epoch 13/100\n",
            "5359/5359 [==============================] - 2s 325us/step - loss: 0.3424 - accuracy: 0.8589 - val_loss: 0.3596 - val_accuracy: 0.8512\n",
            "Epoch 14/100\n",
            "5359/5359 [==============================] - 2s 326us/step - loss: 0.3404 - accuracy: 0.8627 - val_loss: 0.3601 - val_accuracy: 0.8516\n",
            "Epoch 15/100\n",
            "5359/5359 [==============================] - 2s 320us/step - loss: 0.3400 - accuracy: 0.8599 - val_loss: 0.3581 - val_accuracy: 0.8516\n",
            "Epoch 16/100\n",
            "5359/5359 [==============================] - 2s 317us/step - loss: 0.3393 - accuracy: 0.8630 - val_loss: 0.3583 - val_accuracy: 0.8531\n",
            "Epoch 17/100\n",
            "5359/5359 [==============================] - 2s 313us/step - loss: 0.3384 - accuracy: 0.8628 - val_loss: 0.3576 - val_accuracy: 0.8531\n",
            "Epoch 18/100\n",
            "5359/5359 [==============================] - 2s 326us/step - loss: 0.3374 - accuracy: 0.8623 - val_loss: 0.3574 - val_accuracy: 0.8508\n",
            "Epoch 19/100\n",
            "5359/5359 [==============================] - 2s 332us/step - loss: 0.3375 - accuracy: 0.8619 - val_loss: 0.3571 - val_accuracy: 0.8504\n",
            "Epoch 20/100\n",
            "5359/5359 [==============================] - 2s 331us/step - loss: 0.3369 - accuracy: 0.8623 - val_loss: 0.3577 - val_accuracy: 0.8489\n",
            "Epoch 21/100\n",
            "5359/5359 [==============================] - 2s 314us/step - loss: 0.3365 - accuracy: 0.8621 - val_loss: 0.3565 - val_accuracy: 0.8523\n",
            "Epoch 22/100\n",
            "5359/5359 [==============================] - 2s 320us/step - loss: 0.3360 - accuracy: 0.8614 - val_loss: 0.3566 - val_accuracy: 0.8542\n",
            "Epoch 23/100\n",
            "5359/5359 [==============================] - 2s 315us/step - loss: 0.3359 - accuracy: 0.8614 - val_loss: 0.3569 - val_accuracy: 0.8527\n",
            "Epoch 24/100\n",
            "5359/5359 [==============================] - 2s 318us/step - loss: 0.3354 - accuracy: 0.8636 - val_loss: 0.3569 - val_accuracy: 0.8546\n",
            "Epoch 25/100\n",
            "5359/5359 [==============================] - 2s 314us/step - loss: 0.3353 - accuracy: 0.8623 - val_loss: 0.3571 - val_accuracy: 0.8516\n",
            "Epoch 26/100\n",
            "5359/5359 [==============================] - 2s 319us/step - loss: 0.3354 - accuracy: 0.8623 - val_loss: 0.3549 - val_accuracy: 0.8538\n",
            "Epoch 27/100\n",
            "5359/5359 [==============================] - 2s 330us/step - loss: 0.3352 - accuracy: 0.8623 - val_loss: 0.3556 - val_accuracy: 0.8531\n",
            "Epoch 28/100\n",
            "5359/5359 [==============================] - 2s 328us/step - loss: 0.3344 - accuracy: 0.8610 - val_loss: 0.3552 - val_accuracy: 0.8580\n",
            "Epoch 29/100\n",
            "5359/5359 [==============================] - 2s 324us/step - loss: 0.3343 - accuracy: 0.8636 - val_loss: 0.3551 - val_accuracy: 0.8542\n",
            "Epoch 30/100\n",
            "5359/5359 [==============================] - 2s 320us/step - loss: 0.3346 - accuracy: 0.8627 - val_loss: 0.3548 - val_accuracy: 0.8550\n",
            "Epoch 31/100\n",
            "5359/5359 [==============================] - 2s 327us/step - loss: 0.3342 - accuracy: 0.8610 - val_loss: 0.3542 - val_accuracy: 0.8550\n",
            "Epoch 32/100\n",
            "5359/5359 [==============================] - 2s 325us/step - loss: 0.3340 - accuracy: 0.8630 - val_loss: 0.3545 - val_accuracy: 0.8550\n",
            "Epoch 33/100\n",
            "5359/5359 [==============================] - 2s 316us/step - loss: 0.3338 - accuracy: 0.8627 - val_loss: 0.3538 - val_accuracy: 0.8557\n",
            "Epoch 34/100\n",
            "5359/5359 [==============================] - 2s 318us/step - loss: 0.3335 - accuracy: 0.8645 - val_loss: 0.3548 - val_accuracy: 0.8519\n",
            "Epoch 35/100\n",
            "5359/5359 [==============================] - 2s 329us/step - loss: 0.3334 - accuracy: 0.8621 - val_loss: 0.3537 - val_accuracy: 0.8561\n",
            "Epoch 36/100\n",
            "5359/5359 [==============================] - 2s 330us/step - loss: 0.3331 - accuracy: 0.8630 - val_loss: 0.3537 - val_accuracy: 0.8557\n",
            "Epoch 37/100\n",
            "5359/5359 [==============================] - 2s 325us/step - loss: 0.3330 - accuracy: 0.8643 - val_loss: 0.3535 - val_accuracy: 0.8550\n",
            "Epoch 38/100\n",
            "5359/5359 [==============================] - 2s 318us/step - loss: 0.3329 - accuracy: 0.8625 - val_loss: 0.3536 - val_accuracy: 0.8538\n",
            "Epoch 39/100\n",
            "5359/5359 [==============================] - 2s 317us/step - loss: 0.3327 - accuracy: 0.8638 - val_loss: 0.3542 - val_accuracy: 0.8527\n",
            "Epoch 40/100\n",
            "5359/5359 [==============================] - 2s 322us/step - loss: 0.3328 - accuracy: 0.8638 - val_loss: 0.3532 - val_accuracy: 0.8550\n",
            "Epoch 41/100\n",
            "5359/5359 [==============================] - 2s 317us/step - loss: 0.3323 - accuracy: 0.8634 - val_loss: 0.3540 - val_accuracy: 0.8554\n",
            "Epoch 42/100\n",
            "5359/5359 [==============================] - 2s 326us/step - loss: 0.3324 - accuracy: 0.8656 - val_loss: 0.3533 - val_accuracy: 0.8569\n",
            "Epoch 43/100\n",
            "5359/5359 [==============================] - 2s 343us/step - loss: 0.3323 - accuracy: 0.8645 - val_loss: 0.3535 - val_accuracy: 0.8516\n",
            "Epoch 44/100\n",
            "5359/5359 [==============================] - 2s 348us/step - loss: 0.3322 - accuracy: 0.8634 - val_loss: 0.3529 - val_accuracy: 0.8569\n",
            "Epoch 45/100\n",
            "5359/5359 [==============================] - 2s 340us/step - loss: 0.3320 - accuracy: 0.8649 - val_loss: 0.3532 - val_accuracy: 0.8573\n",
            "Epoch 46/100\n",
            "5359/5359 [==============================] - 2s 357us/step - loss: 0.3317 - accuracy: 0.8627 - val_loss: 0.3539 - val_accuracy: 0.8535\n",
            "Epoch 47/100\n",
            "5359/5359 [==============================] - 2s 362us/step - loss: 0.3316 - accuracy: 0.8636 - val_loss: 0.3518 - val_accuracy: 0.8546\n",
            "Epoch 48/100\n",
            "5359/5359 [==============================] - 2s 361us/step - loss: 0.3315 - accuracy: 0.8625 - val_loss: 0.3541 - val_accuracy: 0.8573\n",
            "Epoch 49/100\n",
            "5359/5359 [==============================] - 2s 327us/step - loss: 0.3314 - accuracy: 0.8623 - val_loss: 0.3535 - val_accuracy: 0.8527\n",
            "Epoch 50/100\n",
            "5359/5359 [==============================] - 2s 321us/step - loss: 0.3315 - accuracy: 0.8645 - val_loss: 0.3520 - val_accuracy: 0.8565\n",
            "Epoch 51/100\n",
            "5359/5359 [==============================] - 2s 315us/step - loss: 0.3315 - accuracy: 0.8636 - val_loss: 0.3527 - val_accuracy: 0.8527\n",
            "Epoch 52/100\n",
            "5359/5359 [==============================] - 2s 315us/step - loss: 0.3312 - accuracy: 0.8606 - val_loss: 0.3523 - val_accuracy: 0.8546\n",
            "Epoch 53/100\n",
            "5359/5359 [==============================] - 2s 322us/step - loss: 0.3313 - accuracy: 0.8638 - val_loss: 0.3518 - val_accuracy: 0.8546\n",
            "Epoch 54/100\n",
            "5359/5359 [==============================] - 2s 320us/step - loss: 0.3310 - accuracy: 0.8630 - val_loss: 0.3528 - val_accuracy: 0.8527\n",
            "Epoch 55/100\n",
            "5359/5359 [==============================] - 2s 322us/step - loss: 0.3307 - accuracy: 0.8632 - val_loss: 0.3523 - val_accuracy: 0.8557\n",
            "Epoch 56/100\n",
            "5359/5359 [==============================] - 2s 326us/step - loss: 0.3308 - accuracy: 0.8655 - val_loss: 0.3519 - val_accuracy: 0.8538\n",
            "Epoch 57/100\n",
            "5359/5359 [==============================] - 2s 330us/step - loss: 0.3308 - accuracy: 0.8625 - val_loss: 0.3522 - val_accuracy: 0.8538\n",
            "Epoch 58/100\n",
            "5359/5359 [==============================] - 2s 321us/step - loss: 0.3303 - accuracy: 0.8656 - val_loss: 0.3523 - val_accuracy: 0.8535\n",
            "Epoch 59/100\n",
            "5359/5359 [==============================] - 2s 316us/step - loss: 0.3305 - accuracy: 0.8625 - val_loss: 0.3516 - val_accuracy: 0.8531\n",
            "Epoch 60/100\n",
            "5359/5359 [==============================] - 2s 338us/step - loss: 0.3303 - accuracy: 0.8623 - val_loss: 0.3514 - val_accuracy: 0.8538\n",
            "Epoch 61/100\n",
            "5359/5359 [==============================] - 2s 319us/step - loss: 0.3303 - accuracy: 0.8651 - val_loss: 0.3523 - val_accuracy: 0.8531\n",
            "Epoch 62/100\n",
            "5359/5359 [==============================] - 2s 321us/step - loss: 0.3308 - accuracy: 0.8651 - val_loss: 0.3518 - val_accuracy: 0.8527\n",
            "Epoch 63/100\n",
            "5359/5359 [==============================] - 2s 317us/step - loss: 0.3300 - accuracy: 0.8649 - val_loss: 0.3525 - val_accuracy: 0.8538\n",
            "Epoch 64/100\n",
            "5359/5359 [==============================] - 2s 320us/step - loss: 0.3301 - accuracy: 0.8642 - val_loss: 0.3522 - val_accuracy: 0.8554\n",
            "Epoch 65/100\n",
            "5359/5359 [==============================] - 2s 330us/step - loss: 0.3298 - accuracy: 0.8643 - val_loss: 0.3532 - val_accuracy: 0.8527\n",
            "Epoch 66/100\n",
            "5359/5359 [==============================] - 2s 320us/step - loss: 0.3309 - accuracy: 0.8632 - val_loss: 0.3513 - val_accuracy: 0.8538\n",
            "Epoch 67/100\n",
            "5359/5359 [==============================] - 2s 321us/step - loss: 0.3300 - accuracy: 0.8627 - val_loss: 0.3529 - val_accuracy: 0.8538\n",
            "Epoch 68/100\n",
            "5359/5359 [==============================] - 2s 312us/step - loss: 0.3302 - accuracy: 0.8634 - val_loss: 0.3509 - val_accuracy: 0.8542\n",
            "Epoch 69/100\n",
            "5359/5359 [==============================] - 2s 318us/step - loss: 0.3302 - accuracy: 0.8630 - val_loss: 0.3526 - val_accuracy: 0.8538\n",
            "Epoch 70/100\n",
            "5359/5359 [==============================] - 2s 317us/step - loss: 0.3295 - accuracy: 0.8651 - val_loss: 0.3529 - val_accuracy: 0.8527\n",
            "Epoch 71/100\n",
            "5359/5359 [==============================] - 2s 312us/step - loss: 0.3297 - accuracy: 0.8645 - val_loss: 0.3517 - val_accuracy: 0.8531\n",
            "Epoch 72/100\n",
            "5359/5359 [==============================] - 2s 320us/step - loss: 0.3300 - accuracy: 0.8651 - val_loss: 0.3518 - val_accuracy: 0.8569\n",
            "Epoch 73/100\n",
            "5359/5359 [==============================] - 2s 314us/step - loss: 0.3297 - accuracy: 0.8636 - val_loss: 0.3518 - val_accuracy: 0.8519\n",
            "Epoch 74/100\n",
            "5359/5359 [==============================] - 2s 310us/step - loss: 0.3296 - accuracy: 0.8647 - val_loss: 0.3509 - val_accuracy: 0.8542\n",
            "Epoch 75/100\n",
            "5359/5359 [==============================] - 2s 314us/step - loss: 0.3299 - accuracy: 0.8649 - val_loss: 0.3519 - val_accuracy: 0.8535\n",
            "Epoch 76/100\n",
            "5359/5359 [==============================] - 2s 320us/step - loss: 0.3298 - accuracy: 0.8638 - val_loss: 0.3521 - val_accuracy: 0.8538\n",
            "Epoch 77/100\n",
            "5359/5359 [==============================] - 2s 319us/step - loss: 0.3292 - accuracy: 0.8649 - val_loss: 0.3524 - val_accuracy: 0.8531\n",
            "Epoch 78/100\n",
            "5359/5359 [==============================] - 2s 321us/step - loss: 0.3294 - accuracy: 0.8656 - val_loss: 0.3517 - val_accuracy: 0.8565\n",
            "Epoch 79/100\n",
            "5359/5359 [==============================] - 2s 318us/step - loss: 0.3296 - accuracy: 0.8658 - val_loss: 0.3514 - val_accuracy: 0.8546\n",
            "Epoch 80/100\n",
            "5359/5359 [==============================] - 2s 315us/step - loss: 0.3294 - accuracy: 0.8649 - val_loss: 0.3511 - val_accuracy: 0.8538\n",
            "Epoch 81/100\n",
            "5359/5359 [==============================] - 2s 321us/step - loss: 0.3294 - accuracy: 0.8651 - val_loss: 0.3517 - val_accuracy: 0.8535\n",
            "Epoch 82/100\n",
            "5359/5359 [==============================] - 2s 323us/step - loss: 0.3293 - accuracy: 0.8636 - val_loss: 0.3510 - val_accuracy: 0.8542\n",
            "Epoch 83/100\n",
            "5359/5359 [==============================] - 2s 322us/step - loss: 0.3294 - accuracy: 0.8651 - val_loss: 0.3516 - val_accuracy: 0.8546\n",
            "Epoch 84/100\n",
            "5359/5359 [==============================] - 2s 321us/step - loss: 0.3293 - accuracy: 0.8649 - val_loss: 0.3519 - val_accuracy: 0.8531\n",
            "Epoch 85/100\n",
            "5359/5359 [==============================] - 2s 324us/step - loss: 0.3291 - accuracy: 0.8664 - val_loss: 0.3520 - val_accuracy: 0.8554\n",
            "Epoch 86/100\n",
            "5359/5359 [==============================] - 2s 326us/step - loss: 0.3296 - accuracy: 0.8651 - val_loss: 0.3527 - val_accuracy: 0.8542\n",
            "Epoch 87/100\n",
            "5359/5359 [==============================] - 2s 317us/step - loss: 0.3294 - accuracy: 0.8642 - val_loss: 0.3520 - val_accuracy: 0.8550\n",
            "Epoch 88/100\n",
            "5359/5359 [==============================] - 2s 321us/step - loss: 0.3291 - accuracy: 0.8636 - val_loss: 0.3525 - val_accuracy: 0.8538\n",
            "Epoch 89/100\n",
            "5359/5359 [==============================] - 2s 326us/step - loss: 0.3294 - accuracy: 0.8630 - val_loss: 0.3511 - val_accuracy: 0.8535\n",
            "Epoch 90/100\n",
            "5359/5359 [==============================] - 2s 313us/step - loss: 0.3295 - accuracy: 0.8640 - val_loss: 0.3505 - val_accuracy: 0.8542\n",
            "Epoch 91/100\n",
            "5359/5359 [==============================] - 2s 307us/step - loss: 0.3290 - accuracy: 0.8662 - val_loss: 0.3518 - val_accuracy: 0.8550\n",
            "Epoch 92/100\n",
            "5359/5359 [==============================] - 2s 331us/step - loss: 0.3289 - accuracy: 0.8660 - val_loss: 0.3521 - val_accuracy: 0.8546\n",
            "Epoch 93/100\n",
            "5359/5359 [==============================] - 2s 312us/step - loss: 0.3291 - accuracy: 0.8658 - val_loss: 0.3525 - val_accuracy: 0.8569\n",
            "Epoch 94/100\n",
            "5359/5359 [==============================] - 2s 316us/step - loss: 0.3291 - accuracy: 0.8634 - val_loss: 0.3515 - val_accuracy: 0.8535\n",
            "Epoch 95/100\n",
            "5359/5359 [==============================] - 2s 316us/step - loss: 0.3291 - accuracy: 0.8617 - val_loss: 0.3522 - val_accuracy: 0.8538\n",
            "Epoch 96/100\n",
            "5359/5359 [==============================] - 2s 314us/step - loss: 0.3288 - accuracy: 0.8645 - val_loss: 0.3517 - val_accuracy: 0.8538\n",
            "Epoch 97/100\n",
            "5359/5359 [==============================] - 2s 321us/step - loss: 0.3286 - accuracy: 0.8668 - val_loss: 0.3519 - val_accuracy: 0.8542\n",
            "Epoch 98/100\n",
            "5359/5359 [==============================] - 2s 313us/step - loss: 0.3289 - accuracy: 0.8642 - val_loss: 0.3536 - val_accuracy: 0.8573\n",
            "Epoch 99/100\n",
            "5359/5359 [==============================] - 2s 309us/step - loss: 0.3290 - accuracy: 0.8651 - val_loss: 0.3512 - val_accuracy: 0.8565\n",
            "Epoch 100/100\n",
            "5359/5359 [==============================] - 2s 311us/step - loss: 0.3292 - accuracy: 0.8653 - val_loss: 0.3525 - val_accuracy: 0.8565\n",
            "dict_keys(['val_loss', 'val_accuracy', 'loss', 'accuracy'])\n",
            "[[1513   82]\n",
            " [ 194  211]]\n",
            "0.862\n"
          ],
          "name": "stdout"
        }
      ]
    }
  ]
}
